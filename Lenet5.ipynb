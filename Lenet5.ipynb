{
 "cells": [
  {
   "cell_type": "code",
   "execution_count": 17,
   "metadata": {},
   "outputs": [],
   "source": [
    "import torch\n",
    "import torch.nn as nn\n",
    "import torch.nn.functional as F\n",
    "\n",
    "from torch.utils.data import DataLoader\n",
    "\n",
    "import torchvision\n",
    "import torchvision.transforms as T\n",
    "\n",
    "from torchinfo import summary"
   ]
  },
  {
   "cell_type": "code",
   "execution_count": 18,
   "metadata": {},
   "outputs": [],
   "source": [
    "# Define params\n",
    "BATCH_SIZE = 256\n",
    "EPOCHS = 20\n",
    "\n",
    "DEVICE = 'cuda' if torch.cuda.is_available() else 'cpu' "
   ]
  },
  {
   "cell_type": "code",
   "execution_count": 19,
   "metadata": {},
   "outputs": [],
   "source": [
    "transformers = T.Compose([\n",
    "    T.ToTensor()\n",
    "])"
   ]
  },
  {
   "cell_type": "code",
   "execution_count": 20,
   "metadata": {},
   "outputs": [],
   "source": [
    "train_dataset = torchvision.datasets.MNIST(root='./data/MNIST/', train=True, download=True, transform=transformers)\n",
    "test_dataset = torchvision.datasets.MNIST(root='./data/MNIST/', train=False, download=True, transform=transformers)"
   ]
  },
  {
   "cell_type": "code",
   "execution_count": 21,
   "metadata": {},
   "outputs": [
    {
     "name": "stdout",
     "output_type": "stream",
     "text": [
      "torch.Size([256, 1, 28, 28])\n",
      "torch.Size([256])\n"
     ]
    }
   ],
   "source": [
    "train_dataloder = DataLoader(train_dataset, batch_size=BATCH_SIZE, shuffle=True)\n",
    "test_dataloader = DataLoader(test_dataset, batch_size=BATCH_SIZE, shuffle=False)\n",
    "\n",
    "train_iter = iter(train_dataloder)\n",
    "first_batch = next(train_iter)\n",
    "images = first_batch[0]\n",
    "labels = first_batch[1]\n",
    "\n",
    "print(images.shape)\n",
    "print(labels.shape)"
   ]
  },
  {
   "cell_type": "code",
   "execution_count": 22,
   "metadata": {},
   "outputs": [
    {
     "data": {
      "image/png": "[encoded data removed]",
      "text/plain": [
       "<Figure size 600x600 with 9 Axes>"
      ]
     },
     "metadata": {},
     "output_type": "display_data"
    }
   ],
   "source": [
    "import matplotlib.pyplot as plt\n",
    "\n",
    "figure = plt.figure(figsize=(6,6))\n",
    "cols, rows = 3, 3\n",
    "for i in range(1, cols*rows +1):\n",
    "    label = labels[i-1].item()\n",
    "    img = images[i-1]\n",
    "    figure.add_subplot(rows, cols, i)\n",
    "    plt.axis('off')\n",
    "    plt.title(label)\n",
    "    plt.imshow(img.squeeze(), cmap='gray_r')\n",
    "\n",
    "plt.show()"
   ]
  },
  {
   "cell_type": "code",
   "execution_count": 23,
   "metadata": {},
   "outputs": [],
   "source": [
    "class Lenet5(nn.Module):\n",
    "    def __init__(self) -> None:\n",
    "        super().__init__()\n",
    "        self.c1 = nn.Conv2d(in_channels=1, out_channels=6, kernel_size=5, padding=2)\n",
    "        self.s2 = nn.AvgPool2d(kernel_size=2, stride=2)\n",
    "        self.c3 = nn.Conv2d(in_channels=6, out_channels=16, kernel_size=5)\n",
    "        self.s4 = nn.AvgPool2d(kernel_size=2, stride=2)\n",
    "        self.c5 = nn.Conv2d(in_channels=16, out_channels=120, kernel_size=5)\n",
    "        self.f6 = nn.Linear(in_features=120, out_features=84)\n",
    "        self.squashing = nn.Tanh()\n",
    "        self.f7 = nn.Linear(in_features=84, out_features=10)\n",
    "    \n",
    "\n",
    "    def forward(self, x):\n",
    "\n",
    "        # feature extractor\n",
    "        x = self.c1(x)\n",
    "        x = self.s2(x)\n",
    "        x = self.c3(x)\n",
    "        x = self.s4(x)\n",
    "        x = self.c5(x)\n",
    "\n",
    "        # Flatten\n",
    "        x = torch.flatten(x, 1)\n",
    "\n",
    "        # classifier\n",
    "        x = self.f6(x)\n",
    "        x = self.squashing(x)\n",
    "        x = self.f7(x)\n",
    "        probs = F.softmax(x, dim=1)\n",
    "        return probs"
   ]
  },
  {
   "cell_type": "code",
   "execution_count": 24,
   "metadata": {},
   "outputs": [
    {
     "data": {
      "text/plain": [
       "==========================================================================================\n",
       "Layer (type:depth-idx)                   Output Shape              Param #\n",
       "==========================================================================================\n",
       "Lenet5                                   [256, 10]                 --\n",
       "├─Conv2d: 1-1                            [256, 6, 28, 28]          156\n",
       "├─AvgPool2d: 1-2                         [256, 6, 14, 14]          --\n",
       "├─Conv2d: 1-3                            [256, 16, 10, 10]         2,416\n",
       "├─AvgPool2d: 1-4                         [256, 16, 5, 5]           --\n",
       "├─Conv2d: 1-5                            [256, 120, 1, 1]          48,120\n",
       "├─Linear: 1-6                            [256, 84]                 10,164\n",
       "├─Tanh: 1-7                              [256, 84]                 --\n",
       "├─Linear: 1-8                            [256, 10]                 850\n",
       "==========================================================================================\n",
       "Total params: 61,706\n",
       "Trainable params: 61,706\n",
       "Non-trainable params: 0\n",
       "Total mult-adds (M): 108.30\n",
       "==========================================================================================\n",
       "Input size (MB): 0.80\n",
       "Forward/backward pass size (MB): 13.35\n",
       "Params size (MB): 0.25\n",
       "Estimated Total Size (MB): 14.40\n",
       "=========================================================================================="
      ]
     },
     "execution_count": 24,
     "metadata": {},
     "output_type": "execute_result"
    }
   ],
   "source": [
    "model = Lenet5().to(DEVICE)\n",
    "summary(model, input_size=(BATCH_SIZE, 1, 28, 28))"
   ]
  },
  {
   "cell_type": "code",
   "execution_count": 25,
   "metadata": {},
   "outputs": [],
   "source": [
    "optimizer = torch.optim.SGD(model.parameters(), lr = 0.01, momentum=0.9)\n"
   ]
  },
  {
   "cell_type": "code",
   "execution_count": 35,
   "metadata": {},
   "outputs": [],
   "source": [
    "def train(model, optim, train_dataloder):\n",
    "    model.train()\n",
    "    loss_sum = 0\n",
    "\n",
    "    for data, target in train_dataloder:\n",
    "        data, target = (data.to(DEVICE), target.to(DEVICE))\n",
    "        \n",
    "        optim.zero_grad()\n",
    "\n",
    "        pred = model(data)\n",
    "        loss = F.cross_entropy(pred, target)\n",
    "        loss_sum += loss.item()\n",
    "\n",
    "        # back propagation\n",
    "        loss.backward()\n",
    "\n",
    "        # step\n",
    "        optim.step()\n",
    "    \n",
    "    loss_avg = loss_sum / len(train_dataloder)\n",
    "    return loss_avg\n"
   ]
  },
  {
   "cell_type": "code",
   "execution_count": 34,
   "metadata": {},
   "outputs": [],
   "source": [
    "def eval(model, test_dataloader):\n",
    "    model.eval()\n",
    "\n",
    "    loss_sum = 0\n",
    "    correct = 0\n",
    "\n",
    "    i = 0\n",
    "    with torch.no_grad():\n",
    "        for (data, target) in test_dataloader:\n",
    "            i += 1\n",
    "            data, target = (data.to(DEVICE), target.to(DEVICE))\n",
    "            pred = model(data)\n",
    "            loss = F.cross_entropy(pred, target)\n",
    "            loss_sum += loss.item()\n",
    "\n",
    "            label = pred.max(1, keepdim=True)[1]\n",
    "            correct += label.eq(target.view_as(label)).sum().item()\n",
    "    \n",
    "    \n",
    "    loss_avg = loss_sum / len(test_dataloader)\n",
    "    accuary = 100. * correct / len(test_dataloader.dataset)\n",
    "    return loss_avg, accuary\n",
    "\n"
   ]
  },
  {
   "cell_type": "code",
   "execution_count": 36,
   "metadata": {},
   "outputs": [
    {
     "name": "stdout",
     "output_type": "stream",
     "text": [
      "train\n",
      "256\n",
      "235\n",
      "234.375\n",
      "235\n",
      "eval\n",
      "256\n",
      "40\n",
      "39.0625\n",
      "40\n",
      "[0] train loss: 1.3914 eval loss: 0.2368 accuracy 95.53%\n",
      "train\n",
      "256\n",
      "235\n",
      "234.375\n",
      "235\n"
     ]
    },
    {
     "ename": "KeyboardInterrupt",
     "evalue": "",
     "output_type": "error",
     "traceback": [
      "\u001b[1;31m---------------------------------------------------------------------------\u001b[0m",
      "\u001b[1;31mKeyboardInterrupt\u001b[0m                         Traceback (most recent call last)",
      "Cell \u001b[1;32mIn [36], line 6\u001b[0m\n\u001b[0;32m      4\u001b[0m \u001b[39mfor\u001b[39;00m epoch \u001b[39min\u001b[39;00m \u001b[39mrange\u001b[39m(\u001b[39m0\u001b[39m, EPOCHS):\n\u001b[0;32m      5\u001b[0m     train_loss \u001b[39m=\u001b[39m train(model, optimizer, train_dataloder)\n\u001b[1;32m----> 6\u001b[0m     eval_loss, eval_accuracy \u001b[39m=\u001b[39m \u001b[39meval\u001b[39;49m(model, test_dataloader)\n\u001b[0;32m      8\u001b[0m     train_losses\u001b[39m.\u001b[39mappend(train_loss)\n\u001b[0;32m      9\u001b[0m     eval_losses\u001b[39m.\u001b[39mappend(eval_loss)\n",
      "Cell \u001b[1;32mIn [34], line 12\u001b[0m, in \u001b[0;36meval\u001b[1;34m(model, test_dataloader)\u001b[0m\n\u001b[0;32m     10\u001b[0m i \u001b[39m+\u001b[39m\u001b[39m=\u001b[39m \u001b[39m1\u001b[39m\n\u001b[0;32m     11\u001b[0m data, target \u001b[39m=\u001b[39m (data\u001b[39m.\u001b[39mto(DEVICE), target\u001b[39m.\u001b[39mto(DEVICE))\n\u001b[1;32m---> 12\u001b[0m pred \u001b[39m=\u001b[39m model(data)\n\u001b[0;32m     13\u001b[0m loss \u001b[39m=\u001b[39m F\u001b[39m.\u001b[39mcross_entropy(pred, target)\n\u001b[0;32m     14\u001b[0m loss_sum \u001b[39m+\u001b[39m\u001b[39m=\u001b[39m loss\u001b[39m.\u001b[39mitem()\n",
      "File \u001b[1;32mc:\\Users\\devbi\\miniconda3\\envs\\torch\\lib\\site-packages\\torch\\nn\\modules\\module.py:1190\u001b[0m, in \u001b[0;36mModule._call_impl\u001b[1;34m(self, *input, **kwargs)\u001b[0m\n\u001b[0;32m   1186\u001b[0m \u001b[39m# If we don't have any hooks, we want to skip the rest of the logic in\u001b[39;00m\n\u001b[0;32m   1187\u001b[0m \u001b[39m# this function, and just call forward.\u001b[39;00m\n\u001b[0;32m   1188\u001b[0m \u001b[39mif\u001b[39;00m \u001b[39mnot\u001b[39;00m (\u001b[39mself\u001b[39m\u001b[39m.\u001b[39m_backward_hooks \u001b[39mor\u001b[39;00m \u001b[39mself\u001b[39m\u001b[39m.\u001b[39m_forward_hooks \u001b[39mor\u001b[39;00m \u001b[39mself\u001b[39m\u001b[39m.\u001b[39m_forward_pre_hooks \u001b[39mor\u001b[39;00m _global_backward_hooks\n\u001b[0;32m   1189\u001b[0m         \u001b[39mor\u001b[39;00m _global_forward_hooks \u001b[39mor\u001b[39;00m _global_forward_pre_hooks):\n\u001b[1;32m-> 1190\u001b[0m     \u001b[39mreturn\u001b[39;00m forward_call(\u001b[39m*\u001b[39m\u001b[39minput\u001b[39m, \u001b[39m*\u001b[39m\u001b[39m*\u001b[39mkwargs)\n\u001b[0;32m   1191\u001b[0m \u001b[39m# Do not call functions when jit is used\u001b[39;00m\n\u001b[0;32m   1192\u001b[0m full_backward_hooks, non_full_backward_hooks \u001b[39m=\u001b[39m [], []\n",
      "Cell \u001b[1;32mIn [23], line 17\u001b[0m, in \u001b[0;36mLenet5.forward\u001b[1;34m(self, x)\u001b[0m\n\u001b[0;32m     14\u001b[0m \u001b[39mdef\u001b[39;00m \u001b[39mforward\u001b[39m(\u001b[39mself\u001b[39m, x):\n\u001b[0;32m     15\u001b[0m \n\u001b[0;32m     16\u001b[0m     \u001b[39m# feature extractor\u001b[39;00m\n\u001b[1;32m---> 17\u001b[0m     x \u001b[39m=\u001b[39m \u001b[39mself\u001b[39;49m\u001b[39m.\u001b[39;49mc1(x)\n\u001b[0;32m     18\u001b[0m     x \u001b[39m=\u001b[39m \u001b[39mself\u001b[39m\u001b[39m.\u001b[39ms2(x)\n\u001b[0;32m     19\u001b[0m     x \u001b[39m=\u001b[39m \u001b[39mself\u001b[39m\u001b[39m.\u001b[39mc3(x)\n",
      "File \u001b[1;32mc:\\Users\\devbi\\miniconda3\\envs\\torch\\lib\\site-packages\\torch\\nn\\modules\\module.py:1190\u001b[0m, in \u001b[0;36mModule._call_impl\u001b[1;34m(self, *input, **kwargs)\u001b[0m\n\u001b[0;32m   1186\u001b[0m \u001b[39m# If we don't have any hooks, we want to skip the rest of the logic in\u001b[39;00m\n\u001b[0;32m   1187\u001b[0m \u001b[39m# this function, and just call forward.\u001b[39;00m\n\u001b[0;32m   1188\u001b[0m \u001b[39mif\u001b[39;00m \u001b[39mnot\u001b[39;00m (\u001b[39mself\u001b[39m\u001b[39m.\u001b[39m_backward_hooks \u001b[39mor\u001b[39;00m \u001b[39mself\u001b[39m\u001b[39m.\u001b[39m_forward_hooks \u001b[39mor\u001b[39;00m \u001b[39mself\u001b[39m\u001b[39m.\u001b[39m_forward_pre_hooks \u001b[39mor\u001b[39;00m _global_backward_hooks\n\u001b[0;32m   1189\u001b[0m         \u001b[39mor\u001b[39;00m _global_forward_hooks \u001b[39mor\u001b[39;00m _global_forward_pre_hooks):\n\u001b[1;32m-> 1190\u001b[0m     \u001b[39mreturn\u001b[39;00m forward_call(\u001b[39m*\u001b[39m\u001b[39minput\u001b[39m, \u001b[39m*\u001b[39m\u001b[39m*\u001b[39mkwargs)\n\u001b[0;32m   1191\u001b[0m \u001b[39m# Do not call functions when jit is used\u001b[39;00m\n\u001b[0;32m   1192\u001b[0m full_backward_hooks, non_full_backward_hooks \u001b[39m=\u001b[39m [], []\n",
      "File \u001b[1;32mc:\\Users\\devbi\\miniconda3\\envs\\torch\\lib\\site-packages\\torch\\nn\\modules\\conv.py:463\u001b[0m, in \u001b[0;36mConv2d.forward\u001b[1;34m(self, input)\u001b[0m\n\u001b[0;32m    462\u001b[0m \u001b[39mdef\u001b[39;00m \u001b[39mforward\u001b[39m(\u001b[39mself\u001b[39m, \u001b[39minput\u001b[39m: Tensor) \u001b[39m-\u001b[39m\u001b[39m>\u001b[39m Tensor:\n\u001b[1;32m--> 463\u001b[0m     \u001b[39mreturn\u001b[39;00m \u001b[39mself\u001b[39;49m\u001b[39m.\u001b[39;49m_conv_forward(\u001b[39minput\u001b[39;49m, \u001b[39mself\u001b[39;49m\u001b[39m.\u001b[39;49mweight, \u001b[39mself\u001b[39;49m\u001b[39m.\u001b[39;49mbias)\n",
      "File \u001b[1;32mc:\\Users\\devbi\\miniconda3\\envs\\torch\\lib\\site-packages\\torch\\nn\\modules\\conv.py:459\u001b[0m, in \u001b[0;36mConv2d._conv_forward\u001b[1;34m(self, input, weight, bias)\u001b[0m\n\u001b[0;32m    455\u001b[0m \u001b[39mif\u001b[39;00m \u001b[39mself\u001b[39m\u001b[39m.\u001b[39mpadding_mode \u001b[39m!=\u001b[39m \u001b[39m'\u001b[39m\u001b[39mzeros\u001b[39m\u001b[39m'\u001b[39m:\n\u001b[0;32m    456\u001b[0m     \u001b[39mreturn\u001b[39;00m F\u001b[39m.\u001b[39mconv2d(F\u001b[39m.\u001b[39mpad(\u001b[39minput\u001b[39m, \u001b[39mself\u001b[39m\u001b[39m.\u001b[39m_reversed_padding_repeated_twice, mode\u001b[39m=\u001b[39m\u001b[39mself\u001b[39m\u001b[39m.\u001b[39mpadding_mode),\n\u001b[0;32m    457\u001b[0m                     weight, bias, \u001b[39mself\u001b[39m\u001b[39m.\u001b[39mstride,\n\u001b[0;32m    458\u001b[0m                     _pair(\u001b[39m0\u001b[39m), \u001b[39mself\u001b[39m\u001b[39m.\u001b[39mdilation, \u001b[39mself\u001b[39m\u001b[39m.\u001b[39mgroups)\n\u001b[1;32m--> 459\u001b[0m \u001b[39mreturn\u001b[39;00m F\u001b[39m.\u001b[39;49mconv2d(\u001b[39minput\u001b[39;49m, weight, bias, \u001b[39mself\u001b[39;49m\u001b[39m.\u001b[39;49mstride,\n\u001b[0;32m    460\u001b[0m                 \u001b[39mself\u001b[39;49m\u001b[39m.\u001b[39;49mpadding, \u001b[39mself\u001b[39;49m\u001b[39m.\u001b[39;49mdilation, \u001b[39mself\u001b[39;49m\u001b[39m.\u001b[39;49mgroups)\n",
      "\u001b[1;31mKeyboardInterrupt\u001b[0m: "
     ]
    }
   ],
   "source": [
    "train_losses = []\n",
    "eval_losses = []\n",
    "\n",
    "for epoch in range(0, EPOCHS):\n",
    "    train_loss = train(model, optimizer, train_dataloder)\n",
    "    eval_loss, eval_accuracy = eval(model, test_dataloader)\n",
    "\n",
    "    train_losses.append(train_loss)\n",
    "    eval_losses.append(eval_loss)\n",
    "\n",
    "    print('[{}] train loss: {:.4f} eval loss: {:.4f} accuracy {:.2f}%'.format(\n",
    "        epoch, train_loss, eval_loss, eval_accuracy))\n"
   ]
  },
  {
   "cell_type": "code",
   "execution_count": 29,
   "metadata": {},
   "outputs": [
    {
     "data": {
      "image/png": "[encoded data removed]",
      "text/plain": [
       "<Figure size 640x480 with 1 Axes>"
      ]
     },
     "metadata": {},
     "output_type": "display_data"
    }
   ],
   "source": [
    "plt.plot(train_losses, label='train_loss')\n",
    "plt.plot(eval_losses, label='eval_loss')\n",
    "plt.show()"
   ]
  },
  {
   "cell_type": "code",
   "execution_count": 30,
   "metadata": {},
   "outputs": [
    {
     "data": {
      "image/png": "[encoded data removed]",
      "text/plain": [
       "<Figure size 600x600 with 9 Axes>"
      ]
     },
     "metadata": {},
     "output_type": "display_data"
    }
   ],
   "source": [
    "test_iter = iter(test_dataloader)\n",
    "first_batch = next(test_iter)\n",
    "images = first_batch[0]\n",
    "labels = first_batch[1]\n",
    "\n",
    "pred = model(images.to(DEVICE))\n",
    "\n",
    "pred_labels = pred.max(1, keepdim=True)[1]\n",
    "pred_labels = [x.item() for x in pred_labels ]\n",
    "\n",
    "figure = plt.figure(figsize=(6,6))\n",
    "cols, rows = 3, 3\n",
    "for i in range(1, cols*rows +1):\n",
    "    target_label = labels[i-1].item()\n",
    "    pred_label = pred_labels[i-1]\n",
    "\n",
    "    img = images[i-1]\n",
    "    figure.add_subplot(rows, cols, i)\n",
    "    plt.axis('off')\n",
    "    plt.title('{} : {}'.format(target_label, pred_label))\n",
    "    if target_label == pred_label:\n",
    "        plt.imshow(img.squeeze(), cmap='gray_r')\n",
    "    else:\n",
    "        plt.imshow(img.squeeze(), cmap='gray')\n",
    "\n",
    "plt.show()\n"
   ]
  }
 ],
 "metadata": {
  "kernelspec": {
   "display_name": "torch",
   "language": "python",
   "name": "python3"
  },
  "language_info": {
   "codemirror_mode": {
    "name": "ipython",
    "version": 3
   },
   "file_extension": ".py",
   "mimetype": "text/x-python",
   "name": "python",
   "nbconvert_exporter": "python",
   "pygments_lexer": "ipython3",
   "version": "3.10.6"
  },
  "orig_nbformat": 4,
  "vscode": {
   "interpreter": {
    "hash": "fd8e6961e03ad22c67113b75db3cdfb97f4a9d1bce85adb4d90819015a8c4db0"
   }
  }
 },
 "nbformat": 4,
 "nbformat_minor": 2
}
