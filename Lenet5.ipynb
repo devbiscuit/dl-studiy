{
 "cells": [
  {
   "cell_type": "code",
   "execution_count": 40,
   "metadata": {},
   "outputs": [],
   "source": [
    "import torch\n",
    "import torch.nn as nn\n",
    "import torch.nn.functional as F\n",
    "\n",
    "from torch.utils.data import DataLoader\n",
    "\n",
    "import torchvision\n",
    "import torchvision.transforms as T\n",
    "\n",
    "from torchinfo import summary"
   ]
  },
  {
   "cell_type": "code",
   "execution_count": 41,
   "metadata": {},
   "outputs": [],
   "source": [
    "# Define params\n",
    "BATCH_SIZE = 256\n",
    "EPOCHS = 20\n",
    "\n",
    "DEVICE = 'cuda' if torch.cuda.is_available() else 'cpu' "
   ]
  },
  {
   "cell_type": "code",
   "execution_count": 42,
   "metadata": {},
   "outputs": [],
   "source": [
    "transformers = T.Compose([\n",
    "    T.ToTensor()\n",
    "])"
   ]
  },
  {
   "cell_type": "code",
   "execution_count": 43,
   "metadata": {},
   "outputs": [],
   "source": [
    "train_dataset = torchvision.datasets.MNIST(root='./data/MNIST/', train=True, download=True, transform=transformers)\n",
    "test_dataset = torchvision.datasets.MNIST(root='./data/MNIST/', train=False, download=True, transform=transformers)"
   ]
  },
  {
   "cell_type": "code",
   "execution_count": 44,
   "metadata": {},
   "outputs": [
    {
     "name": "stdout",
     "output_type": "stream",
     "text": [
      "torch.Size([256, 1, 28, 28])\n",
      "torch.Size([256])\n"
     ]
    }
   ],
   "source": [
    "train_dataloder = DataLoader(train_dataset, batch_size=BATCH_SIZE, shuffle=True)\n",
    "test_dataloader = DataLoader(test_dataset, batch_size=BATCH_SIZE, shuffle=False)\n",
    "\n",
    "train_iter = iter(train_dataloder)\n",
    "first_batch = next(train_iter)\n",
    "images = first_batch[0]\n",
    "labels = first_batch[1]\n",
    "\n",
    "print(images.shape)\n",
    "print(labels.shape)"
   ]
  },
  {
   "cell_type": "code",
   "execution_count": 45,
   "metadata": {},
   "outputs": [
    {
     "data": {
      "image/png": "[encoded data removed]",
      "text/plain": [
       "<Figure size 600x600 with 9 Axes>"
      ]
     },
     "metadata": {},
     "output_type": "display_data"
    }
   ],
   "source": [
    "import matplotlib.pyplot as plt\n",
    "\n",
    "figure = plt.figure(figsize=(6,6))\n",
    "cols, rows = 3, 3\n",
    "for i in range(1, cols*rows +1):\n",
    "    label = labels[i-1].item()\n",
    "    img = images[i-1]\n",
    "    figure.add_subplot(rows, cols, i)\n",
    "    plt.axis('off')\n",
    "    plt.title(label)\n",
    "    plt.imshow(img.squeeze(), cmap='gray_r')\n",
    "\n",
    "plt.show()"
   ]
  },
  {
   "cell_type": "code",
   "execution_count": 46,
   "metadata": {},
   "outputs": [],
   "source": [
    "class Lenet5(nn.Module):\n",
    "    def __init__(self) -> None:\n",
    "        super().__init__()\n",
    "        self.c1 = nn.Conv2d(in_channels=1, out_channels=6, kernel_size=5, padding=2)\n",
    "        self.s2 = nn.AvgPool2d(kernel_size=2, stride=2)\n",
    "        self.c3 = nn.Conv2d(in_channels=6, out_channels=16, kernel_size=5)\n",
    "        self.s4 = nn.AvgPool2d(kernel_size=2, stride=2)\n",
    "        self.c5 = nn.Conv2d(in_channels=16, out_channels=120, kernel_size=5)\n",
    "        self.f6 = nn.Linear(in_features=120, out_features=84)\n",
    "        self.squashing = nn.Tanh()\n",
    "        self.f7 = nn.Linear(in_features=84, out_features=10)\n",
    "    \n",
    "\n",
    "    def forward(self, x):\n",
    "\n",
    "        # feature extractor\n",
    "        x = self.c1(x)\n",
    "        x = self.s2(x)\n",
    "        x = self.c3(x)\n",
    "        x = self.s4(x)\n",
    "        x = self.c5(x)\n",
    "\n",
    "        # Flatten\n",
    "        x = torch.flatten(x, 1)\n",
    "\n",
    "        # classifier\n",
    "        x = self.f6(x)\n",
    "        x = self.squashing(x)\n",
    "        x = self.f7(x)\n",
    "        probs = F.softmax(x, dim=1)\n",
    "        return probs"
   ]
  },
  {
   "cell_type": "code",
   "execution_count": 47,
   "metadata": {},
   "outputs": [
    {
     "data": {
      "text/plain": [
       "==========================================================================================\n",
       "Layer (type:depth-idx)                   Output Shape              Param #\n",
       "==========================================================================================\n",
       "Lenet5                                   [256, 10]                 --\n",
       "├─Conv2d: 1-1                            [256, 6, 28, 28]          156\n",
       "├─AvgPool2d: 1-2                         [256, 6, 14, 14]          --\n",
       "├─Conv2d: 1-3                            [256, 16, 10, 10]         2,416\n",
       "├─AvgPool2d: 1-4                         [256, 16, 5, 5]           --\n",
       "├─Conv2d: 1-5                            [256, 120, 1, 1]          48,120\n",
       "├─Linear: 1-6                            [256, 84]                 10,164\n",
       "├─Tanh: 1-7                              [256, 84]                 --\n",
       "├─Linear: 1-8                            [256, 10]                 850\n",
       "==========================================================================================\n",
       "Total params: 61,706\n",
       "Trainable params: 61,706\n",
       "Non-trainable params: 0\n",
       "Total mult-adds (M): 108.30\n",
       "==========================================================================================\n",
       "Input size (MB): 0.80\n",
       "Forward/backward pass size (MB): 13.35\n",
       "Params size (MB): 0.25\n",
       "Estimated Total Size (MB): 14.40\n",
       "=========================================================================================="
      ]
     },
     "execution_count": 47,
     "metadata": {},
     "output_type": "execute_result"
    }
   ],
   "source": [
    "model = Lenet5().to(DEVICE)\n",
    "summary(model, input_size=(BATCH_SIZE, 1, 28, 28))"
   ]
  },
  {
   "cell_type": "code",
   "execution_count": 48,
   "metadata": {},
   "outputs": [],
   "source": [
    "optimizer = torch.optim.SGD(model.parameters(), lr = 0.01, momentum=0.9)\n"
   ]
  },
  {
   "cell_type": "code",
   "execution_count": 49,
   "metadata": {},
   "outputs": [],
   "source": [
    "def train(model, optim, train_dataloder):\n",
    "    model.train()\n",
    "    loss_sum = 0\n",
    "\n",
    "    for data, target in train_dataloder:\n",
    "        data, target = (data.to(DEVICE), target.to(DEVICE))\n",
    "        \n",
    "        optim.zero_grad()\n",
    "\n",
    "        pred = model(data)\n",
    "        loss = F.cross_entropy(pred, target)\n",
    "        loss_sum += loss.item()\n",
    "\n",
    "        # back propagation\n",
    "        loss.backward()\n",
    "\n",
    "        # step\n",
    "        optim.step()\n",
    "\n",
    "    loss_avg = loss_sum / len(train_dataloder.dataset)\n",
    "    return loss_avg\n"
   ]
  },
  {
   "cell_type": "code",
   "execution_count": 50,
   "metadata": {},
   "outputs": [],
   "source": [
    "def eval(model, test_dataloader):\n",
    "    model.eval()\n",
    "\n",
    "    loss_sum = 0\n",
    "    correct = 0\n",
    "\n",
    "    with torch.no_grad():\n",
    "        for (data, target) in test_dataloader:\n",
    "            data, target = (data.to(DEVICE), target.to(DEVICE))\n",
    "            pred = model(data)\n",
    "            loss = F.cross_entropy(pred, target)\n",
    "            loss_sum += loss.item()\n",
    "\n",
    "            label = pred.max(1, keepdim=True)[1]\n",
    "            correct += label.eq(target.view_as(label)).sum().item()\n",
    "    \n",
    "    loss_avg = loss_sum / len(test_dataloader.dataset)\n",
    "    accuary = 100. * correct / len(test_dataloader.dataset)\n",
    "    return loss_avg, accuary\n",
    "\n"
   ]
  },
  {
   "cell_type": "code",
   "execution_count": 51,
   "metadata": {},
   "outputs": [
    {
     "name": "stdout",
     "output_type": "stream",
     "text": [
      "[0] train loss: 0.0090 eval loss: 0.0092 accuracy 19.89%\n",
      "[1] train loss: 0.0089 eval loss: 0.0089 accuracy 48.99%\n",
      "[2] train loss: 0.0074 eval loss: 0.0068 accuracy 80.43%\n",
      "[3] train loss: 0.0064 eval loss: 0.0064 accuracy 89.45%\n",
      "[4] train loss: 0.0062 eval loss: 0.0063 accuracy 90.18%\n",
      "[5] train loss: 0.0062 eval loss: 0.0063 accuracy 91.23%\n",
      "[6] train loss: 0.0061 eval loss: 0.0062 accuracy 91.72%\n",
      "[7] train loss: 0.0061 eval loss: 0.0062 accuracy 92.12%\n",
      "[8] train loss: 0.0061 eval loss: 0.0062 accuracy 92.83%\n",
      "[9] train loss: 0.0061 eval loss: 0.0062 accuracy 92.99%\n",
      "[10] train loss: 0.0060 eval loss: 0.0062 accuracy 93.33%\n",
      "[11] train loss: 0.0060 eval loss: 0.0061 accuracy 93.73%\n",
      "[12] train loss: 0.0060 eval loss: 0.0061 accuracy 93.76%\n",
      "[13] train loss: 0.0060 eval loss: 0.0061 accuracy 94.01%\n",
      "[14] train loss: 0.0060 eval loss: 0.0061 accuracy 94.32%\n",
      "[15] train loss: 0.0060 eval loss: 0.0061 accuracy 94.39%\n",
      "[16] train loss: 0.0060 eval loss: 0.0061 accuracy 94.52%\n",
      "[17] train loss: 0.0060 eval loss: 0.0061 accuracy 94.69%\n",
      "[18] train loss: 0.0060 eval loss: 0.0061 accuracy 94.73%\n",
      "[19] train loss: 0.0060 eval loss: 0.0061 accuracy 94.86%\n"
     ]
    }
   ],
   "source": [
    "train_losses = []\n",
    "eval_losses = []\n",
    "\n",
    "for epoch in range(0, EPOCHS):\n",
    "    train_loss = train(model, optimizer, train_dataloder)\n",
    "    eval_loss, eval_accuracy = eval(model, test_dataloader)\n",
    "\n",
    "    train_losses.append(train_loss)\n",
    "    eval_losses.append(eval_loss)\n",
    "\n",
    "    print('[{}] train loss: {:.4f} eval loss: {:.4f} accuracy {:.2f}%'.format(\n",
    "        epoch, train_loss, eval_loss, eval_accuracy))\n"
   ]
  },
  {
   "cell_type": "code",
   "execution_count": 52,
   "metadata": {},
   "outputs": [
    {
     "data": {
      "image/png": "[encoded data removed]",
      "text/plain": [
       "<Figure size 640x480 with 1 Axes>"
      ]
     },
     "metadata": {},
     "output_type": "display_data"
    }
   ],
   "source": [
    "plt.plot(train_losses, label='train_loss')\n",
    "plt.plot(eval_losses, label='eval_loss')\n",
    "plt.show()"
   ]
  },
  {
   "cell_type": "code",
   "execution_count": 61,
   "metadata": {},
   "outputs": [
    {
     "data": {
      "image/png": "[encoded data removed]",
      "text/plain": [
       "<Figure size 600x600 with 9 Axes>"
      ]
     },
     "metadata": {},
     "output_type": "display_data"
    }
   ],
   "source": [
    "test_iter = iter(test_dataloader)\n",
    "first_batch = next(test_iter)\n",
    "images = first_batch[0]\n",
    "labels = first_batch[1]\n",
    "\n",
    "pred = model(images.to(DEVICE))\n",
    "\n",
    "pred_labels = pred.max(1, keepdim=True)[1]\n",
    "pred_labels = [x.item() for x in pred_labels ]\n",
    "\n",
    "figure = plt.figure(figsize=(6,6))\n",
    "cols, rows = 3, 3\n",
    "for i in range(1, cols*rows +1):\n",
    "    target_label = labels[i-1].item()\n",
    "    pred_label = pred_labels[i-1]\n",
    "\n",
    "    img = images[i-1]\n",
    "    figure.add_subplot(rows, cols, i)\n",
    "    plt.axis('off')\n",
    "    plt.title('{} : {}'.format(target_label, pred_label))\n",
    "    if target_label == pred_label:\n",
    "        plt.imshow(img.squeeze(), cmap='gray_r')\n",
    "    else:\n",
    "        plt.imshow(img.squeeze(), cmap='gray')\n",
    "\n",
    "plt.show()\n"
   ]
  }
 ],
 "metadata": {
  "kernelspec": {
   "display_name": "torch",
   "language": "python",
   "name": "python3"
  },
  "language_info": {
   "codemirror_mode": {
    "name": "ipython",
    "version": 3
   },
   "file_extension": ".py",
   "mimetype": "text/x-python",
   "name": "python",
   "nbconvert_exporter": "python",
   "pygments_lexer": "ipython3",
   "version": "3.10.6"
  },
  "orig_nbformat": 4,
  "vscode": {
   "interpreter": {
    "hash": "fd8e6961e03ad22c67113b75db3cdfb97f4a9d1bce85adb4d90819015a8c4db0"
   }
  }
 },
 "nbformat": 4,
 "nbformat_minor": 2
}
